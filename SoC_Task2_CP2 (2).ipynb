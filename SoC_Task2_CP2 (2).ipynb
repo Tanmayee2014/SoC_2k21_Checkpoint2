{
  "nbformat": 4,
  "nbformat_minor": 0,
  "metadata": {
    "colab": {
      "name": "SoC_Task2_CP2.ipynb",
      "provenance": [],
      "collapsed_sections": []
    },
    "kernelspec": {
      "name": "python3",
      "display_name": "Python 3"
    },
    "language_info": {
      "name": "python"
    }
  },
  "cells": [
    {
      "cell_type": "code",
      "metadata": {
        "colab": {
          "base_uri": "https://localhost:8080/"
        },
        "id": "tbrt6wxqIl-s",
        "outputId": "9fa2060b-ba86-49c8-df7f-a03160abe5e1"
      },
      "source": [
        "# To install libraries required for loading youtube videos\n",
        "!pip install pafy\n",
        "!pip install youtube-dl "
      ],
      "execution_count": 19,
      "outputs": [
        {
          "output_type": "stream",
          "text": [
            "Requirement already satisfied: pafy in /usr/local/lib/python3.7/dist-packages (0.5.5)\n",
            "Requirement already satisfied: youtube-dl in /usr/local/lib/python3.7/dist-packages (2021.6.6)\n"
          ],
          "name": "stdout"
        }
      ]
    },
    {
      "cell_type": "code",
      "metadata": {
        "colab": {
          "base_uri": "https://localhost:8080/"
        },
        "id": "XUF5pZ9JIm3X",
        "outputId": "e0507f4b-984c-497d-fd79-a9a8de9251d2"
      },
      "source": [
        "from google.colab import drive\n",
        "drive.mount('/content/drive')\n"
      ],
      "execution_count": 20,
      "outputs": [
        {
          "output_type": "stream",
          "text": [
            "Drive already mounted at /content/drive; to attempt to forcibly remount, call drive.mount(\"/content/drive\", force_remount=True).\n"
          ],
          "name": "stdout"
        }
      ]
    },
    {
      "cell_type": "code",
      "metadata": {
        "id": "tUv18Jo8LVn_"
      },
      "source": [
        "import os\n",
        "path = '/content/drive/MyDrive/SoC_second'\n",
        "\n",
        "\n",
        "output_dir = '/content'\n"
      ],
      "execution_count": 21,
      "outputs": []
    },
    {
      "cell_type": "code",
      "metadata": {
        "colab": {
          "base_uri": "https://localhost:8080/",
          "height": 396
        },
        "id": "avoY4GlqlaCK",
        "outputId": "d970fcfd-3d8e-4091-f05a-9d93cc53a2fb"
      },
      "source": [
        "# Importing OpenCV, pafy for youtube video processing and time library\n",
        "import cv2\n",
        "import numpy as np\n",
        "import pafy\n",
        "import time\n",
        "\n",
        "# cv2.imshow doesn't work in colab hence cv2_imshow(image) would have to be done\n",
        "from google.colab.patches import cv2_imshow\n",
        "\n",
        "# Would run the video processing code for n seconds only\n",
        "n = 2\n",
        "\n",
        "# Setting up output video writer\n",
        "fourcc = cv2.VideoWriter_fourcc(*'XVID')\n",
        "w, h = 1280,720\n",
        "fourcc = cv2.VideoWriter_fourcc('m', 'p', '4', 'v')\n",
        "output_fps = 30\n",
        "output_movie = cv2.VideoWriter(os.path.join(output_dir,'output_video.avi'), fourcc, output_fps, (w, h))\n",
        "\n",
        "#url of the video to predict Age and gender\n",
        "url = 'https://www.youtube.com/watch?v=iH1ZJVqJO3Y'\n",
        "vPafy = pafy.new(url)\n",
        "play = vPafy.getbest(preftype=\"mp4\")\n",
        "\n",
        "# Capturing youtube video\n",
        "cap = cv2.VideoCapture(play.url)\n",
        "\n",
        "cap.set(3, 480)\n",
        "cap.set(4, 640) \n",
        "\n",
        "# Pretrained model mean values\n",
        "MODEL_MEAN_VALUES = (78.4263377603, 87.7689143744, 114.895847746)\n",
        "\n",
        "# Setting the same age and gender ranges as that of pre trianed model\n",
        "age_list = ['(0, 2)', '(4, 6)', '(8, 12)', '(15, 20)', '(25, 32)', '(38, 43)', '(48, 53)', '(60, 100)']\n",
        "\n",
        "gender_list = ['Male', 'Female']\n",
        "def load_caffe_models():\n",
        " \n",
        "  age_net = cv2.dnn.readNetFromCaffe(os.path.join(path,'deploy_age.prototxt'), os.path.join(path,'age_net.caffemodel'))\n",
        "\n",
        "  gender_net = cv2.dnn.readNetFromCaffe(os.path.join(path,'deploy_gender.prototxt'), os.path.join(path,'gender_net.caffemodel'))\n",
        "\n",
        "  return (age_net, gender_net)\n",
        "\n",
        "# Function to detetct age and gender\n",
        "\n",
        "def video_detector(age_net, gender_net):\n",
        "  # Selecting cv2 font to write on the video\n",
        "  font = cv2.FONT_HERSHEY_SIMPLEX\n",
        "  framecount = 0\n",
        "\n",
        "  # Ending the loop when frames in output video are n*FPS (for e.g. 10*30=300)\n",
        "  while framecount < n*output_fps:\n",
        "\n",
        "      ret, image = cap.read()\n",
        "      framecount = framecount+1\n",
        "\n",
        "      face_cascade = cv2.CascadeClassifier(cv2.data.haarcascades + 'haarcascade_frontalface_alt.xml')\n",
        "      eye_cascade = cv2.CascadeClassifier(cv2.data.haarcascades + 'haarcascade_eye.xml')\n",
        "    \n",
        "      gray = cv2.cvtColor(image, cv2.COLOR_BGR2GRAY)\n",
        "\n",
        "      faces = face_cascade.detectMultiScale(gray, 1.1, 5)\n",
        "\n",
        "      for (x, y, w, h )in faces:\n",
        "        cv2.rectangle(image, (x, y), (x+w, y+h), (255, 255, 0), 2)\n",
        "\n",
        "      #Get Face \n",
        "        face_img = image[y:y+h, h:h+w].copy()\n",
        "        blob = cv2.dnn.blobFromImage(face_img, 1, (227, 227), MODEL_MEAN_VALUES, swapRB=False)\n",
        "\n",
        "      #Predict Gender\n",
        "        gender_net.setInput(blob)\n",
        "        gender_preds = gender_net.forward()\n",
        "        gender = gender_list[gender_preds[0].argmax()]\n",
        "\n",
        "      \n",
        "        age_net.setInput(blob)\n",
        "        age_preds = age_net.forward()\n",
        "        age = age_list[age_preds[0].argmax()]\n",
        "        \n",
        "\n",
        "        overlay_text = \"%s %s\" % (gender, age)\n",
        "        cv2.putText(image, overlay_text, (x, y), font, 1, (255, 255, 255), 2, cv2.LINE_AA)\n",
        "      output_movie.write(image)\n",
        "  output_movie.release()\n",
        "  print(framecount)\n",
        "\n",
        "age_net, gender_net = load_caffe_models()\n",
        "\n",
        "video_detector(age_net, gender_net)"
      ],
      "execution_count": 23,
      "outputs": [
        {
          "output_type": "error",
          "ename": "error",
          "evalue": "ignored",
          "traceback": [
            "\u001b[0;31m---------------------------------------------------------------------------\u001b[0m",
            "\u001b[0;31merror\u001b[0m                                     Traceback (most recent call last)",
            "\u001b[0;32m<ipython-input-23-6850c193a3f3>\u001b[0m in \u001b[0;36m<module>\u001b[0;34m()\u001b[0m\n\u001b[1;32m     88\u001b[0m   \u001b[0mprint\u001b[0m\u001b[0;34m(\u001b[0m\u001b[0mframecount\u001b[0m\u001b[0;34m)\u001b[0m\u001b[0;34m\u001b[0m\u001b[0;34m\u001b[0m\u001b[0m\n\u001b[1;32m     89\u001b[0m \u001b[0;34m\u001b[0m\u001b[0m\n\u001b[0;32m---> 90\u001b[0;31m \u001b[0mage_net\u001b[0m\u001b[0;34m,\u001b[0m \u001b[0mgender_net\u001b[0m \u001b[0;34m=\u001b[0m \u001b[0mload_caffe_models\u001b[0m\u001b[0;34m(\u001b[0m\u001b[0;34m)\u001b[0m\u001b[0;34m\u001b[0m\u001b[0;34m\u001b[0m\u001b[0m\n\u001b[0m\u001b[1;32m     91\u001b[0m \u001b[0;34m\u001b[0m\u001b[0m\n\u001b[1;32m     92\u001b[0m \u001b[0mvideo_detector\u001b[0m\u001b[0;34m(\u001b[0m\u001b[0mage_net\u001b[0m\u001b[0;34m,\u001b[0m \u001b[0mgender_net\u001b[0m\u001b[0;34m)\u001b[0m\u001b[0;34m\u001b[0m\u001b[0;34m\u001b[0m\u001b[0m\n",
            "\u001b[0;32m<ipython-input-23-6850c193a3f3>\u001b[0m in \u001b[0;36mload_caffe_models\u001b[0;34m()\u001b[0m\n\u001b[1;32m     38\u001b[0m \u001b[0;32mdef\u001b[0m \u001b[0mload_caffe_models\u001b[0m\u001b[0;34m(\u001b[0m\u001b[0;34m)\u001b[0m\u001b[0;34m:\u001b[0m\u001b[0;34m\u001b[0m\u001b[0;34m\u001b[0m\u001b[0m\n\u001b[1;32m     39\u001b[0m \u001b[0;34m\u001b[0m\u001b[0m\n\u001b[0;32m---> 40\u001b[0;31m   \u001b[0mage_net\u001b[0m \u001b[0;34m=\u001b[0m \u001b[0mcv2\u001b[0m\u001b[0;34m.\u001b[0m\u001b[0mdnn\u001b[0m\u001b[0;34m.\u001b[0m\u001b[0mreadNetFromCaffe\u001b[0m\u001b[0;34m(\u001b[0m\u001b[0mos\u001b[0m\u001b[0;34m.\u001b[0m\u001b[0mpath\u001b[0m\u001b[0;34m.\u001b[0m\u001b[0mjoin\u001b[0m\u001b[0;34m(\u001b[0m\u001b[0mpath\u001b[0m\u001b[0;34m,\u001b[0m\u001b[0;34m'deploy_age.prototxt'\u001b[0m\u001b[0;34m)\u001b[0m\u001b[0;34m,\u001b[0m \u001b[0mos\u001b[0m\u001b[0;34m.\u001b[0m\u001b[0mpath\u001b[0m\u001b[0;34m.\u001b[0m\u001b[0mjoin\u001b[0m\u001b[0;34m(\u001b[0m\u001b[0mpath\u001b[0m\u001b[0;34m,\u001b[0m\u001b[0;34m'age_net.caffemodel'\u001b[0m\u001b[0;34m)\u001b[0m\u001b[0;34m)\u001b[0m\u001b[0;34m\u001b[0m\u001b[0;34m\u001b[0m\u001b[0m\n\u001b[0m\u001b[1;32m     41\u001b[0m \u001b[0;34m\u001b[0m\u001b[0m\n\u001b[1;32m     42\u001b[0m   \u001b[0mgender_net\u001b[0m \u001b[0;34m=\u001b[0m \u001b[0mcv2\u001b[0m\u001b[0;34m.\u001b[0m\u001b[0mdnn\u001b[0m\u001b[0;34m.\u001b[0m\u001b[0mreadNetFromCaffe\u001b[0m\u001b[0;34m(\u001b[0m\u001b[0mos\u001b[0m\u001b[0;34m.\u001b[0m\u001b[0mpath\u001b[0m\u001b[0;34m.\u001b[0m\u001b[0mjoin\u001b[0m\u001b[0;34m(\u001b[0m\u001b[0mpath\u001b[0m\u001b[0;34m,\u001b[0m\u001b[0;34m'deploy_gender.prototxt'\u001b[0m\u001b[0;34m)\u001b[0m\u001b[0;34m,\u001b[0m \u001b[0mos\u001b[0m\u001b[0;34m.\u001b[0m\u001b[0mpath\u001b[0m\u001b[0;34m.\u001b[0m\u001b[0mjoin\u001b[0m\u001b[0;34m(\u001b[0m\u001b[0mpath\u001b[0m\u001b[0;34m,\u001b[0m\u001b[0;34m'gender_net.caffemodel'\u001b[0m\u001b[0;34m)\u001b[0m\u001b[0;34m)\u001b[0m\u001b[0;34m\u001b[0m\u001b[0;34m\u001b[0m\u001b[0m\n",
            "\u001b[0;31merror\u001b[0m: OpenCV(4.1.2) /io/opencv/modules/dnn/src/caffe/caffe_io.cpp:1121: error: (-2:Unspecified error) FAILED: fs.is_open(). Can't open \"/content/drive/MyDrive/SoC_second/deploy_age.prototxt\" in function 'ReadProtoFromTextFile'\n"
          ]
        }
      ]
    },
    {
      "cell_type": "code",
      "metadata": {
        "id": "8lliUYkhloHm"
      },
      "source": [
        ""
      ],
      "execution_count": null,
      "outputs": []
    }
  ]
}